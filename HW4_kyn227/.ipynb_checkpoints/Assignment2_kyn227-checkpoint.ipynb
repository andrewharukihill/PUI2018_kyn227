{
 "cells": [
  {
   "cell_type": "code",
   "execution_count": 6,
   "metadata": {},
   "outputs": [
    {
     "name": "stdout",
     "output_type": "stream",
     "text": [
      "Populating the interactive namespace from numpy and matplotlib\n"
     ]
    }
   ],
   "source": [
    "from __future__  import print_function, division\n",
    "import pylab as pl\n",
    "import pandas as pd\n",
    "import numpy as np\n",
    "import os\n",
    "\n",
    "%pylab inline\n",
    "\n",
    "if os.getenv ('PUI2016') is None:\n",
    "    print (\"Must set env variable PUI2016\")\n",
    "if os.getenv ('PUIDATA') is None:\n",
    "    print (\"Must set env variable PUI2016\")\n",
    "\n",
    "import os\n",
    "import json\n",
    "os.environ[\"PUIDATA\"] = \"%s/PUIDATA\"%os.getenv(\"HOME\")"
   ]
  },
  {
   "cell_type": "code",
   "execution_count": 7,
   "metadata": {},
   "outputs": [],
   "source": [
    "def getCitiBikeCSV(datestring):\n",
    "    print (\"Downloading\", datestring)\n",
    "    ### First I will heck that it is not already there\n",
    "    if not os.path.isfile(os.getenv(\"PUIDATA\") + \"/\" + datestring + \"-citibike-tripdata.csv\"):\n",
    "        if os.path.isfile(datestring + \"-citibike-tripdata.csv\"):\n",
    "            # if in the current dir just move it\n",
    "            if os.system(\"mv \" + datestring + \"-citibike-tripdata.csv \" + os.getenv(\"PUIDATA\")):\n",
    "                print (\"Error moving file!, Please check!\")\n",
    "        #otherwise start looking for the zip file\n",
    "        else:\n",
    "            if not os.path.isfile(os.getenv(\"PUIDATA\") + \"/\" + datestring + \"-citibike-tripdata.zip\"):\n",
    "                if not os.path.isfile(datestring + \"-citibike-tripdata.zip\"):\n",
    "                    os.system(\"curl -O https://s3.amazonaws.com/tripdata/\" + datestring + \"-citibike-tripdata.zip\")\n",
    "                ###  To move it I use the os.system() functions to run bash commands with arguments\n",
    "                os.system(\"mv \" + datestring + \"-citibike-tripdata.zip \" + os.getenv(\"PUIDATA\"))\n",
    "            ### unzip the csv \n",
    "            os.system(\"unzip \" + os.getenv(\"PUIDATA\") + \"/\" + datestring + \"-citibike-tripdata.zip\")\n",
    "            ## NOTE: old csv citibike data had a different name structure. \n",
    "            if '2014' in datestring:\n",
    "                os.system(\"mv \" + datestring[:4] + '-' +  datestring[4:] + \n",
    "                          \"\\ -\\ Citi\\ Bike\\ trip\\ data.csv \" + datestring + \"-citibike-tripdata.csv\")\n",
    "            os.system(\"mv \" + datestring + \"-citibike-tripdata.csv \" + os.getenv(\"PUIDATA\"))\n",
    "    ### One final check:\n",
    "    if not os.path.isfile(os.getenv(\"PUIDATA\") + \"/\" + datestring + \"-citibike-tripdata.csv\"):\n",
    "        print (\"WARNING!!! something is wrong: the file is not there!\")\n",
    "\n",
    "    else:\n",
    "        print (\"file in place, you can continue\")"
   ]
  },
  {
   "cell_type": "code",
   "execution_count": 8,
   "metadata": {},
   "outputs": [
    {
     "name": "stdout",
     "output_type": "stream",
     "text": [
      "Downloading 201601\n",
      "file in place, you can continue\n"
     ]
    }
   ],
   "source": [
    "getCitiBikeCSV(datestring)"
   ]
  },
  {
   "cell_type": "code",
   "execution_count": 9,
   "metadata": {},
   "outputs": [
    {
     "data": {
      "text/html": [
       "<div>\n",
       "<table border=\"1\" class=\"dataframe\">\n",
       "  <thead>\n",
       "    <tr style=\"text-align: right;\">\n",
       "      <th></th>\n",
       "      <th>tripduration</th>\n",
       "      <th>starttime</th>\n",
       "      <th>stoptime</th>\n",
       "      <th>start station id</th>\n",
       "      <th>start station name</th>\n",
       "      <th>start station latitude</th>\n",
       "      <th>start station longitude</th>\n",
       "      <th>end station id</th>\n",
       "      <th>end station name</th>\n",
       "      <th>end station latitude</th>\n",
       "      <th>end station longitude</th>\n",
       "      <th>bikeid</th>\n",
       "      <th>usertype</th>\n",
       "      <th>birth year</th>\n",
       "      <th>gender</th>\n",
       "      <th>date</th>\n",
       "    </tr>\n",
       "  </thead>\n",
       "  <tbody>\n",
       "    <tr>\n",
       "      <th>0</th>\n",
       "      <td>923</td>\n",
       "      <td>1/1/2016 00:00:41</td>\n",
       "      <td>1/1/2016 00:16:04</td>\n",
       "      <td>268</td>\n",
       "      <td>Howard St &amp; Centre St</td>\n",
       "      <td>40.719105</td>\n",
       "      <td>-73.999733</td>\n",
       "      <td>3002</td>\n",
       "      <td>South End Ave &amp; Liberty St</td>\n",
       "      <td>40.711512</td>\n",
       "      <td>-74.015756</td>\n",
       "      <td>22285</td>\n",
       "      <td>Subscriber</td>\n",
       "      <td>1958.0</td>\n",
       "      <td>1</td>\n",
       "      <td>2016-01-01 00:00:41</td>\n",
       "    </tr>\n",
       "    <tr>\n",
       "      <th>1</th>\n",
       "      <td>379</td>\n",
       "      <td>1/1/2016 00:00:45</td>\n",
       "      <td>1/1/2016 00:07:04</td>\n",
       "      <td>476</td>\n",
       "      <td>E 31 St &amp; 3 Ave</td>\n",
       "      <td>40.743943</td>\n",
       "      <td>-73.979661</td>\n",
       "      <td>498</td>\n",
       "      <td>Broadway &amp; W 32 St</td>\n",
       "      <td>40.748549</td>\n",
       "      <td>-73.988084</td>\n",
       "      <td>17827</td>\n",
       "      <td>Subscriber</td>\n",
       "      <td>1969.0</td>\n",
       "      <td>1</td>\n",
       "      <td>2016-01-01 00:00:45</td>\n",
       "    </tr>\n",
       "    <tr>\n",
       "      <th>2</th>\n",
       "      <td>589</td>\n",
       "      <td>1/1/2016 00:00:48</td>\n",
       "      <td>1/1/2016 00:10:37</td>\n",
       "      <td>489</td>\n",
       "      <td>10 Ave &amp; W 28 St</td>\n",
       "      <td>40.750664</td>\n",
       "      <td>-74.001768</td>\n",
       "      <td>284</td>\n",
       "      <td>Greenwich Ave &amp; 8 Ave</td>\n",
       "      <td>40.739017</td>\n",
       "      <td>-74.002638</td>\n",
       "      <td>21997</td>\n",
       "      <td>Subscriber</td>\n",
       "      <td>1982.0</td>\n",
       "      <td>2</td>\n",
       "      <td>2016-01-01 00:00:48</td>\n",
       "    </tr>\n",
       "    <tr>\n",
       "      <th>3</th>\n",
       "      <td>889</td>\n",
       "      <td>1/1/2016 00:01:06</td>\n",
       "      <td>1/1/2016 00:15:56</td>\n",
       "      <td>268</td>\n",
       "      <td>Howard St &amp; Centre St</td>\n",
       "      <td>40.719105</td>\n",
       "      <td>-73.999733</td>\n",
       "      <td>3002</td>\n",
       "      <td>South End Ave &amp; Liberty St</td>\n",
       "      <td>40.711512</td>\n",
       "      <td>-74.015756</td>\n",
       "      <td>22794</td>\n",
       "      <td>Subscriber</td>\n",
       "      <td>1961.0</td>\n",
       "      <td>2</td>\n",
       "      <td>2016-01-01 00:01:06</td>\n",
       "    </tr>\n",
       "    <tr>\n",
       "      <th>4</th>\n",
       "      <td>1480</td>\n",
       "      <td>1/1/2016 00:01:12</td>\n",
       "      <td>1/1/2016 00:25:52</td>\n",
       "      <td>2006</td>\n",
       "      <td>Central Park S &amp; 6 Ave</td>\n",
       "      <td>40.765909</td>\n",
       "      <td>-73.976342</td>\n",
       "      <td>2006</td>\n",
       "      <td>Central Park S &amp; 6 Ave</td>\n",
       "      <td>40.765909</td>\n",
       "      <td>-73.976342</td>\n",
       "      <td>14562</td>\n",
       "      <td>Subscriber</td>\n",
       "      <td>1952.0</td>\n",
       "      <td>1</td>\n",
       "      <td>2016-01-01 00:01:12</td>\n",
       "    </tr>\n",
       "  </tbody>\n",
       "</table>\n",
       "</div>"
      ],
      "text/plain": [
       "   tripduration          starttime           stoptime  start station id  \\\n",
       "0           923  1/1/2016 00:00:41  1/1/2016 00:16:04               268   \n",
       "1           379  1/1/2016 00:00:45  1/1/2016 00:07:04               476   \n",
       "2           589  1/1/2016 00:00:48  1/1/2016 00:10:37               489   \n",
       "3           889  1/1/2016 00:01:06  1/1/2016 00:15:56               268   \n",
       "4          1480  1/1/2016 00:01:12  1/1/2016 00:25:52              2006   \n",
       "\n",
       "       start station name  start station latitude  start station longitude  \\\n",
       "0   Howard St & Centre St               40.719105               -73.999733   \n",
       "1         E 31 St & 3 Ave               40.743943               -73.979661   \n",
       "2        10 Ave & W 28 St               40.750664               -74.001768   \n",
       "3   Howard St & Centre St               40.719105               -73.999733   \n",
       "4  Central Park S & 6 Ave               40.765909               -73.976342   \n",
       "\n",
       "   end station id            end station name  end station latitude  \\\n",
       "0            3002  South End Ave & Liberty St             40.711512   \n",
       "1             498          Broadway & W 32 St             40.748549   \n",
       "2             284       Greenwich Ave & 8 Ave             40.739017   \n",
       "3            3002  South End Ave & Liberty St             40.711512   \n",
       "4            2006      Central Park S & 6 Ave             40.765909   \n",
       "\n",
       "   end station longitude  bikeid    usertype  birth year  gender  \\\n",
       "0             -74.015756   22285  Subscriber      1958.0       1   \n",
       "1             -73.988084   17827  Subscriber      1969.0       1   \n",
       "2             -74.002638   21997  Subscriber      1982.0       2   \n",
       "3             -74.015756   22794  Subscriber      1961.0       2   \n",
       "4             -73.976342   14562  Subscriber      1952.0       1   \n",
       "\n",
       "                 date  \n",
       "0 2016-01-01 00:00:41  \n",
       "1 2016-01-01 00:00:45  \n",
       "2 2016-01-01 00:00:48  \n",
       "3 2016-01-01 00:01:06  \n",
       "4 2016-01-01 00:01:12  "
      ]
     },
     "execution_count": 9,
     "metadata": {},
     "output_type": "execute_result"
    }
   ],
   "source": [
    "datestring = '201601'\n",
    "\n",
    "df = pd.read_csv(os.getenv(\"PUIDATA\") + \"/\" + datestring + '-citibike-tripdata.csv')\n",
    "\n",
    "df['date'] = pd.to_datetime(df['starttime'])\n",
    "\n",
    "df.head()"
   ]
  },
  {
   "cell_type": "code",
   "execution_count": 10,
   "metadata": {},
   "outputs": [
    {
     "data": {
      "text/plain": [
       "Index([u'tripduration', u'starttime', u'stoptime', u'start station id',\n",
       "       u'start station name', u'start station latitude',\n",
       "       u'start station longitude', u'end station id', u'end station name',\n",
       "       u'end station latitude', u'end station longitude', u'bikeid',\n",
       "       u'usertype', u'birth year', u'gender', u'date'],\n",
       "      dtype='object')"
      ]
     },
     "execution_count": 10,
     "metadata": {},
     "output_type": "execute_result"
    }
   ],
   "source": [
    "df.columns"
   ]
  },
  {
   "cell_type": "code",
   "execution_count": 11,
   "metadata": {},
   "outputs": [],
   "source": [
    "df_2c = df[['tripduration', 'gender']]"
   ]
  },
  {
   "cell_type": "code",
   "execution_count": 12,
   "metadata": {},
   "outputs": [
    {
     "data": {
      "text/html": [
       "<div>\n",
       "<table border=\"1\" class=\"dataframe\">\n",
       "  <thead>\n",
       "    <tr style=\"text-align: right;\">\n",
       "      <th></th>\n",
       "      <th>tripduration</th>\n",
       "      <th>gender</th>\n",
       "    </tr>\n",
       "  </thead>\n",
       "  <tbody>\n",
       "    <tr>\n",
       "      <th>0</th>\n",
       "      <td>923</td>\n",
       "      <td>1</td>\n",
       "    </tr>\n",
       "    <tr>\n",
       "      <th>1</th>\n",
       "      <td>379</td>\n",
       "      <td>1</td>\n",
       "    </tr>\n",
       "    <tr>\n",
       "      <th>2</th>\n",
       "      <td>589</td>\n",
       "      <td>2</td>\n",
       "    </tr>\n",
       "    <tr>\n",
       "      <th>3</th>\n",
       "      <td>889</td>\n",
       "      <td>2</td>\n",
       "    </tr>\n",
       "    <tr>\n",
       "      <th>4</th>\n",
       "      <td>1480</td>\n",
       "      <td>1</td>\n",
       "    </tr>\n",
       "  </tbody>\n",
       "</table>\n",
       "</div>"
      ],
      "text/plain": [
       "   tripduration  gender\n",
       "0           923       1\n",
       "1           379       1\n",
       "2           589       2\n",
       "3           889       2\n",
       "4          1480       1"
      ]
     },
     "execution_count": 12,
     "metadata": {},
     "output_type": "execute_result"
    }
   ],
   "source": [
    "df_2c.head()"
   ]
  },
  {
   "cell_type": "markdown",
   "metadata": {},
   "source": [
    "### Question: Do males cycle longer distance as compared to females?\n",
    "\n",
    "### $H_{0}$: The cycling trip duration for females on average is the same or longer as compared to males.\n",
    "\n",
    "### $T_{new}$ >= $T_{old}$\n",
    "\n",
    "\n",
    "### $H_{1}$: The cycling trip duration for females on average is lesser as compared to males.\n",
    "\n",
    "### $T_{new}$ < $T_{old}$\n"
   ]
  },
  {
   "cell_type": "code",
   "execution_count": 21,
   "metadata": {},
   "outputs": [
    {
     "data": {
      "text/plain": [
       "<matplotlib.legend.Legend at 0x7f007f28c550>"
      ]
     },
     "execution_count": 21,
     "metadata": {},
     "output_type": "execute_result"
    },
    {
     "data": {
      "image/png": "[encoded data removed]",
      "text/plain": [
       "<matplotlib.figure.Figure at 0x7f0084e87a90>"
      ]
     },
     "metadata": {},
     "output_type": "display_data"
    }
   ],
   "source": [
    "fig = pl.figure(figsize(30,15))\n",
    "\n",
    "norm_w = 1\n",
    "((df['tripduration'][df['gender'] == 2].groupby([df['date'].dt.weekday]).count())).plot(kind=\"bar\", \n",
    "                                                                                         color='IndianRed', \n",
    "                                                                                         label='female')\n",
    "\n",
    "norm_m = 1\n",
    "ax = ((df['tripduration'][df['gender'] == 1].groupby([df['date'].dt.weekday]).count())).plot(kind=\"bar\", \n",
    "                                                                                              color='SteelBlue', \n",
    "                                                                                              alpha=0.5,\n",
    "                                                                                              label='male')\n",
    "\n",
    "pl.legend()\n",
    "ax.set_ylabel (\"Total Trip Duration\",fontsize=20)\n",
    "ax.set_xlabel (\"Days of the week\",fontsize=20)\n",
    "pl.legend(['women bikers','men bikers'],fontsize=20)\n",
    "\n",
    "tmp = ax.xaxis.set_ticklabels(['Mon', 'Tue', 'Wed', 'Thu', 'Fri', 'Sat', 'Sun'], fontsize=20)\n",
    "pl.legend()"
   ]
  },
  {
   "cell_type": "code",
   "execution_count": null,
   "metadata": {},
   "outputs": [],
   "source": []
  },
  {
   "cell_type": "code",
   "execution_count": null,
   "metadata": {},
   "outputs": [],
   "source": []
  }
 ],
 "metadata": {
  "kernelspec": {
   "display_name": "PUI2016_Python2",
   "language": "python",
   "name": "pui2016_python2"
  },
  "language_info": {
   "codemirror_mode": {
    "name": "ipython",
    "version": 2
   },
   "file_extension": ".py",
   "mimetype": "text/x-python",
   "name": "python",
   "nbconvert_exporter": "python",
   "pygments_lexer": "ipython2",
   "version": "2.7.12"
  }
 },
 "nbformat": 4,
 "nbformat_minor": 2
}
