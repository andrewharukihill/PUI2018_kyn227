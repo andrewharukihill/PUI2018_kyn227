{
 "cells": [
  {
   "cell_type": "code",
   "execution_count": 2,
   "metadata": {},
   "outputs": [
    {
     "name": "stdout",
     "output_type": "stream",
     "text": [
      "PUIDATA /nfshome/kyn227/PUIDATA\n"
     ]
    }
   ],
   "source": [
    "import os\n",
    "os.environ[\"PUIDATA\"] = \"%s/PUIDATA\"%os.getenv(\"HOME\")\n",
    "import pandas as pd\n",
    "\n",
    "print (\"PUIDATA\", os.getenv(\"PUIDATA\")) "
   ]
  },
  {
   "cell_type": "code",
   "execution_count": 3,
   "metadata": {},
   "outputs": [
    {
     "name": "stdout",
     "output_type": "stream",
     "text": [
      "  % Total    % Received % Xferd  Average Speed   Time    Time     Time  Current\n",
      "                                 Dload  Upload   Total   Spent    Left  Speed\n",
      "100 19026    0 19026    0     0  64830      0 --:--:-- --:--:-- --:--:-- 64935\n"
     ]
    }
   ],
   "source": [
    "!curl https://data.cityofnewyork.us/api/views/swpk-hqdp/rows.csv?accessType=DOWNLOAD > population_neighbourhood.csv"
   ]
  },
  {
   "cell_type": "code",
   "execution_count": 4,
   "metadata": {},
   "outputs": [],
   "source": [
    "!mv population_neighbourhood.csv $PUIDATA"
   ]
  },
  {
   "cell_type": "code",
   "execution_count": 5,
   "metadata": {},
   "outputs": [
    {
     "name": "stdout",
     "output_type": "stream",
     "text": [
      "DHS.csv  population_neighbourhood.csv  WaterConsumption.csv\r\n"
     ]
    }
   ],
   "source": [
    "!ls $PUIDATA"
   ]
  },
  {
   "cell_type": "code",
   "execution_count": 6,
   "metadata": {},
   "outputs": [],
   "source": [
    "dcp = pd.read_csv(\"%s/population_neighbourhood.csv\"%os.getenv(\"PUIDATA\"))"
   ]
  },
  {
   "cell_type": "code",
   "execution_count": 7,
   "metadata": {},
   "outputs": [
    {
     "data": {
      "text/html": [
       "<div>\n",
       "<table border=\"1\" class=\"dataframe\">\n",
       "  <thead>\n",
       "    <tr style=\"text-align: right;\">\n",
       "      <th></th>\n",
       "      <th>Borough</th>\n",
       "      <th>Year</th>\n",
       "      <th>FIPS County Code</th>\n",
       "      <th>NTA Code</th>\n",
       "      <th>NTA Name</th>\n",
       "      <th>Population</th>\n",
       "    </tr>\n",
       "  </thead>\n",
       "  <tbody>\n",
       "    <tr>\n",
       "      <th>0</th>\n",
       "      <td>Bronx</td>\n",
       "      <td>2000</td>\n",
       "      <td>5</td>\n",
       "      <td>BX01</td>\n",
       "      <td>Claremont-Bathgate</td>\n",
       "      <td>28149</td>\n",
       "    </tr>\n",
       "    <tr>\n",
       "      <th>1</th>\n",
       "      <td>Bronx</td>\n",
       "      <td>2000</td>\n",
       "      <td>5</td>\n",
       "      <td>BX03</td>\n",
       "      <td>Eastchester-Edenwald-Baychester</td>\n",
       "      <td>35422</td>\n",
       "    </tr>\n",
       "    <tr>\n",
       "      <th>2</th>\n",
       "      <td>Bronx</td>\n",
       "      <td>2000</td>\n",
       "      <td>5</td>\n",
       "      <td>BX05</td>\n",
       "      <td>Bedford Park-Fordham North</td>\n",
       "      <td>55329</td>\n",
       "    </tr>\n",
       "    <tr>\n",
       "      <th>3</th>\n",
       "      <td>Bronx</td>\n",
       "      <td>2000</td>\n",
       "      <td>5</td>\n",
       "      <td>BX06</td>\n",
       "      <td>Belmont</td>\n",
       "      <td>25967</td>\n",
       "    </tr>\n",
       "    <tr>\n",
       "      <th>4</th>\n",
       "      <td>Bronx</td>\n",
       "      <td>2000</td>\n",
       "      <td>5</td>\n",
       "      <td>BX07</td>\n",
       "      <td>Bronxdale</td>\n",
       "      <td>34309</td>\n",
       "    </tr>\n",
       "    <tr>\n",
       "      <th>5</th>\n",
       "      <td>Bronx</td>\n",
       "      <td>2000</td>\n",
       "      <td>5</td>\n",
       "      <td>BX08</td>\n",
       "      <td>West Farms-Bronx River</td>\n",
       "      <td>34542</td>\n",
       "    </tr>\n",
       "    <tr>\n",
       "      <th>6</th>\n",
       "      <td>Bronx</td>\n",
       "      <td>2000</td>\n",
       "      <td>5</td>\n",
       "      <td>BX09</td>\n",
       "      <td>Soundview-Castle Hill-Clason Point-Harding Park</td>\n",
       "      <td>50753</td>\n",
       "    </tr>\n",
       "  </tbody>\n",
       "</table>\n",
       "</div>"
      ],
      "text/plain": [
       "  Borough  Year  FIPS County Code NTA Code  \\\n",
       "0   Bronx  2000                 5     BX01   \n",
       "1   Bronx  2000                 5     BX03   \n",
       "2   Bronx  2000                 5     BX05   \n",
       "3   Bronx  2000                 5     BX06   \n",
       "4   Bronx  2000                 5     BX07   \n",
       "5   Bronx  2000                 5     BX08   \n",
       "6   Bronx  2000                 5     BX09   \n",
       "\n",
       "                                          NTA Name  Population  \n",
       "0                               Claremont-Bathgate       28149  \n",
       "1                  Eastchester-Edenwald-Baychester       35422  \n",
       "2                       Bedford Park-Fordham North       55329  \n",
       "3                                          Belmont       25967  \n",
       "4                                        Bronxdale       34309  \n",
       "5                           West Farms-Bronx River       34542  \n",
       "6  Soundview-Castle Hill-Clason Point-Harding Park       50753  "
      ]
     },
     "execution_count": 7,
     "metadata": {},
     "output_type": "execute_result"
    }
   ],
   "source": [
    "dcp.head(7)"
   ]
  },
  {
   "cell_type": "code",
   "execution_count": 8,
   "metadata": {},
   "outputs": [
    {
     "data": {
      "text/html": [
       "<div>\n",
       "<table border=\"1\" class=\"dataframe\">\n",
       "  <thead>\n",
       "    <tr style=\"text-align: right;\">\n",
       "      <th></th>\n",
       "      <th>Borough</th>\n",
       "      <th>Year</th>\n",
       "      <th>FIPS County Code</th>\n",
       "      <th>NTA Code</th>\n",
       "      <th>NTA Name</th>\n",
       "      <th>Population</th>\n",
       "    </tr>\n",
       "  </thead>\n",
       "  <tbody>\n",
       "    <tr>\n",
       "      <th>387</th>\n",
       "      <td>Staten Island</td>\n",
       "      <td>2010</td>\n",
       "      <td>85</td>\n",
       "      <td>SI48</td>\n",
       "      <td>Arden Heights</td>\n",
       "      <td>25238</td>\n",
       "    </tr>\n",
       "    <tr>\n",
       "      <th>388</th>\n",
       "      <td>Staten Island</td>\n",
       "      <td>2010</td>\n",
       "      <td>85</td>\n",
       "      <td>SI54</td>\n",
       "      <td>Great Kills</td>\n",
       "      <td>40720</td>\n",
       "    </tr>\n",
       "    <tr>\n",
       "      <th>389</th>\n",
       "      <td>Staten Island</td>\n",
       "      <td>2010</td>\n",
       "      <td>85</td>\n",
       "      <td>SI99</td>\n",
       "      <td>park-cemetery-etc-Staten Island</td>\n",
       "      <td>0</td>\n",
       "    </tr>\n",
       "  </tbody>\n",
       "</table>\n",
       "</div>"
      ],
      "text/plain": [
       "           Borough  Year  FIPS County Code NTA Code  \\\n",
       "387  Staten Island  2010                85     SI48   \n",
       "388  Staten Island  2010                85     SI54   \n",
       "389  Staten Island  2010                85     SI99   \n",
       "\n",
       "                            NTA Name  Population  \n",
       "387                    Arden Heights       25238  \n",
       "388                      Great Kills       40720  \n",
       "389  park-cemetery-etc-Staten Island           0  "
      ]
     },
     "execution_count": 8,
     "metadata": {},
     "output_type": "execute_result"
    }
   ],
   "source": [
    "dcp.tail(3)"
   ]
  },
  {
   "cell_type": "code",
   "execution_count": 9,
   "metadata": {},
   "outputs": [
    {
     "data": {
      "text/plain": [
       "Index(['Borough', 'Year', 'FIPS County Code', 'NTA Code', 'NTA Name',\n",
       "       'Population'],\n",
       "      dtype='object')"
      ]
     },
     "execution_count": 9,
     "metadata": {},
     "output_type": "execute_result"
    }
   ],
   "source": [
    "dcp.columns"
   ]
  },
  {
   "cell_type": "code",
   "execution_count": 10,
   "metadata": {},
   "outputs": [
    {
     "data": {
      "text/plain": [
       "2340"
      ]
     },
     "execution_count": 10,
     "metadata": {},
     "output_type": "execute_result"
    }
   ],
   "source": [
    "dcp.size"
   ]
  },
  {
   "cell_type": "code",
   "execution_count": 11,
   "metadata": {},
   "outputs": [],
   "source": [
    "dcp_2c = dcp[['Year', 'Population']]"
   ]
  },
  {
   "cell_type": "code",
   "execution_count": 12,
   "metadata": {},
   "outputs": [
    {
     "data": {
      "text/html": [
       "<div>\n",
       "<table border=\"1\" class=\"dataframe\">\n",
       "  <thead>\n",
       "    <tr style=\"text-align: right;\">\n",
       "      <th></th>\n",
       "      <th>Year</th>\n",
       "      <th>Population</th>\n",
       "    </tr>\n",
       "  </thead>\n",
       "  <tbody>\n",
       "    <tr>\n",
       "      <th>0</th>\n",
       "      <td>2000</td>\n",
       "      <td>28149</td>\n",
       "    </tr>\n",
       "    <tr>\n",
       "      <th>1</th>\n",
       "      <td>2000</td>\n",
       "      <td>35422</td>\n",
       "    </tr>\n",
       "    <tr>\n",
       "      <th>2</th>\n",
       "      <td>2000</td>\n",
       "      <td>55329</td>\n",
       "    </tr>\n",
       "    <tr>\n",
       "      <th>3</th>\n",
       "      <td>2000</td>\n",
       "      <td>25967</td>\n",
       "    </tr>\n",
       "    <tr>\n",
       "      <th>4</th>\n",
       "      <td>2000</td>\n",
       "      <td>34309</td>\n",
       "    </tr>\n",
       "  </tbody>\n",
       "</table>\n",
       "</div>"
      ],
      "text/plain": [
       "   Year  Population\n",
       "0  2000       28149\n",
       "1  2000       35422\n",
       "2  2000       55329\n",
       "3  2000       25967\n",
       "4  2000       34309"
      ]
     },
     "execution_count": 12,
     "metadata": {},
     "output_type": "execute_result"
    }
   ],
   "source": [
    "dcp_2c.head()"
   ]
  },
  {
   "cell_type": "code",
   "execution_count": 13,
   "metadata": {},
   "outputs": [
    {
     "name": "stdout",
     "output_type": "stream",
     "text": [
      "Populating the interactive namespace from numpy and matplotlib\n"
     ]
    }
   ],
   "source": [
    "%pylab inline"
   ]
  },
  {
   "cell_type": "code",
   "execution_count": 14,
   "metadata": {},
   "outputs": [
    {
     "data": {
      "text/plain": [
       "<matplotlib.axes._subplots.AxesSubplot at 0x7ff7adbd0c18>"
      ]
     },
     "execution_count": 14,
     "metadata": {},
     "output_type": "execute_result"
    },
    {
     "data": {
      "image/png": "[encoded data removed]",
      "text/plain": [
       "<matplotlib.figure.Figure at 0x7ff7b07aacc0>"
      ]
     },
     "metadata": {},
     "output_type": "display_data"
    }
   ],
   "source": [
    "dcp_2c.plot(x=\"Year\", y=\"Population\")"
   ]
  },
  {
   "cell_type": "markdown",
   "metadata": {},
   "source": [
    "Figure 1: Number of population in neighbourhoods across years as reported by Department of City Planning (DCP) for years 2000 and 2010. It can be noted from the figure that population in general dipped from year 2000 to 2010. More insightful observations can be made by studying the data against the different neighbourhoods. "
   ]
  },
  {
   "cell_type": "code",
   "execution_count": null,
   "metadata": {},
   "outputs": [],
   "source": []
  }
 ],
 "metadata": {
  "kernelspec": {
   "display_name": "PUI2016_Python3",
   "language": "python",
   "name": "pui2016_python3"
  },
  "language_info": {
   "codemirror_mode": {
    "name": "ipython",
    "version": 3
   },
   "file_extension": ".py",
   "mimetype": "text/x-python",
   "name": "python",
   "nbconvert_exporter": "python",
   "pygments_lexer": "ipython3",
   "version": "3.5.4"
  }
 },
 "nbformat": 4,
 "nbformat_minor": 2
}
